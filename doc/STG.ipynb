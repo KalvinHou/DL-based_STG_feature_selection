{
 "cells": [
  {
   "cell_type": "code",
   "execution_count": 1,
   "id": "f465912d",
   "metadata": {
    "ExecuteTime": {
     "end_time": "2022-01-27T09:49:32.375537Z",
     "start_time": "2022-01-27T09:49:29.161732Z"
    }
   },
   "outputs": [],
   "source": [
    "import numpy as np\n",
    "import pandas as pd\n",
    "import tensorflow as tf\n",
    "from tensorflow import keras\n",
    "import tensorflow.keras.backend as K\n",
    "from tensorflow.keras.datasets import mnist, fashion_mnist, cifar10\n",
    "\n",
    "from tensorflow.keras.layers import Layer, Dense, Input, Dropout, BatchNormalization, LeakyReLU, Lambda\n",
    "from tensorflow.keras.layers import Subtract, Add, MaxPooling2D, LayerNormalization\n",
    "from tensorflow.keras.initializers import RandomNormal, RandomUniform, GlorotNormal, Constant, GlorotUniform\n",
    "from tensorflow.keras.constraints import Constraint, NonNeg\n",
    "from tensorflow.keras import regularizers\n",
    "from tensorflow.keras.regularizers import l1_l2, l2\n",
    "from tensorflow.keras.utils import to_categorical\n",
    "from tensorflow.keras.losses import Loss\n",
    "\n",
    "from tensorflow.keras.layers import Reshape, Conv2D, Flatten, Conv1D\n",
    "from tensorflow.keras.models import Model, Sequential\n",
    "from tensorflow.keras.optimizers import Adam, SGD, RMSprop\n",
    "\n",
    "from sklearn.ensemble import RandomForestClassifier, ExtraTreesClassifier\n",
    "from sklearn.svm import LinearSVC\n",
    "from sklearn.neighbors import KNeighborsClassifier\n",
    "import matplotlib.pyplot as plt\n",
    "from sklearn.preprocessing import MinMaxScaler\n",
    "from scipy.io import loadmat\n",
    "import tikzplotlib\n",
    "\n",
    "from bayes_opt import BayesianOptimization\n",
    "from itertools import combinations\n",
    "\n",
    "import math\n",
    "import os                          \n",
    "import random as rn\n",
    "import gc                          "
   ]
  },
  {
   "cell_type": "markdown",
   "id": "d99ad6ba",
   "metadata": {},
   "source": [
    "# Dataset"
   ]
  },
  {
   "cell_type": "markdown",
   "id": "9194133c",
   "metadata": {},
   "source": [
    "## Benchmark"
   ]
  },
  {
   "cell_type": "code",
   "execution_count": 2,
   "id": "beacd282",
   "metadata": {},
   "outputs": [],
   "source": [
    "class Dataset():\n",
    "    def __init__(self, name=None):\n",
    "        self.name = name\n",
    "        self.datasets = None\n",
    "\n",
    "    def load_data(self, normalize=True, **kwargs):\n",
    "        if self.name == 'mnist':\n",
    "            (x_train, y_train), (x_test, y_test) = mnist.load_data()\n",
    "            x_train = (np.reshape(x_train, newshape=(len(x_train), -1)) / 255).astype(np.float32)\n",
    "            y_train = y_train.astype(np.float32)\n",
    "            x_test = (np.reshape(x_test, newshape=(len(x_test), -1)) / 255).astype(np.float32)\n",
    "            y_test = y_test.astype(np.float32)\n",
    "        else:\n",
    "            raise ValueError('Please enter a valid realtion mode...')\n",
    "\n",
    "        self.x_train, self.y_train, self.x_test, self.y_test = x_train, y_train, x_test, y_test\n",
    "        self.input_shape = x_train.shape[1:]\n",
    "        return x_train, y_train, x_test, y_test\n"
   ]
  },
  {
   "cell_type": "markdown",
   "id": "547addc1",
   "metadata": {},
   "source": [
    "# FeatureSelectionLayer:"
   ]
  },
  {
   "cell_type": "code",
   "execution_count": 3,
   "id": "f92b4879",
   "metadata": {
    "ExecuteTime": {
     "end_time": "2022-01-27T09:49:57.695430Z",
     "start_time": "2022-01-27T09:49:57.689974Z"
    }
   },
   "outputs": [],
   "source": [
    "def mu_regularizer(x):\n",
    "    sigma = 0.5\n",
    "    inner = (x+0.5)/sigma\n",
    "    reg = tf.reduce_mean(0.5 * (1 + tf.math.erf(inner/math.sqrt(2))))\n",
    "    return reg\n",
    "\n",
    "\n",
    "class FeatureSelector(Layer):       \n",
    "    def __init__(self, input_dim, lam, sigma, **kwargs):\n",
    "        #param kwargs: The name of this layer.\n",
    "\n",
    "        super(FeatureSelector, self).__init__(**kwargs)\n",
    "        self.sigma = sigma\n",
    "        self.lam = lam\n",
    "        self.num_fea = input_dim\n",
    "        \n",
    "    def build(self, input_shape):\n",
    "        self.mu = self.add_weight(name='mu',\n",
    "                                  shape=(self.num_fea, ),\n",
    "                                  initializer=RandomNormal(stddev=1e-4),\n",
    "                                  regularizer=mu_regularizer,\n",
    "                                  trainable=True)\n",
    "        \n",
    "    def call(self, prev_x):\n",
    "        z = self.mu + self.sigma * np.random.randn(self.num_fea)\n",
    "        stochastic_gate = tf.clip_by_value(z+0.5, 0.0, 1.0)            # set mu=0.5 at very first beginning\n",
    "        new_x = prev_x * stochastic_gate\n",
    "        \n",
    "        return new_x              \n",
    "    \n",
    "    #def get_support()"
   ]
  },
  {
   "cell_type": "markdown",
   "id": "814929c2",
   "metadata": {},
   "source": [
    "# HiddenNetwork"
   ]
  },
  {
   "cell_type": "code",
   "execution_count": 4,
   "id": "b6dc5561",
   "metadata": {
    "ExecuteTime": {
     "end_time": "2022-01-27T09:49:38.179363Z",
     "start_time": "2022-01-27T09:49:38.166962Z"
    }
   },
   "outputs": [],
   "source": [
    "def get_HiddenModel(input_dim, output_dim, hidden_dims, task):\n",
    "\n",
    "    if hidden_dims is None:\n",
    "        hidden_dims = []\n",
    "    elif type(hidden_dims) is int:\n",
    "        hidden_dims = [hidden_dims]\n",
    "    dims = [input_dim]\n",
    "    dims.extend(hidden_dims)\n",
    "    dims.append(output_dim)\n",
    "    model = keras.Sequential(name=\"MLP_Learning\")\n",
    "\n",
    "    nr_hiddens = len(hidden_dims)\n",
    "    for i in range(nr_hiddens):\n",
    "        model.add(Dense(dims[i+1], activation=\"relu\"))      \n",
    "    \n",
    "    if task in ['regression']:\n",
    "        model.add(Dense(output_dim, activation=\"linear\", name='regression'))\n",
    "    elif task in ['classification']:\n",
    "        model.add(Dense(output_dim, activation=\"softmax\", name='classification'))\n",
    "    else:\n",
    "        raise ValueError ('Please enter a valid laearning task!')\n",
    "\n",
    "    return model"
   ]
  },
  {
   "cell_type": "markdown",
   "id": "0d07945f",
   "metadata": {},
   "source": [
    "# Followings are for wrapping out the whole model:"
   ]
  },
  {
   "cell_type": "markdown",
   "id": "e5c25ad0",
   "metadata": {},
   "source": [
    "# ============================================================="
   ]
  },
  {
   "cell_type": "markdown",
   "id": "1dd00115",
   "metadata": {},
   "source": [
    "# STG："
   ]
  },
  {
   "cell_type": "code",
   "execution_count": 5,
   "id": "db3112f8",
   "metadata": {
    "ExecuteTime": {
     "end_time": "2022-01-27T09:50:26.210908Z",
     "start_time": "2022-01-27T09:50:26.190576Z"
    }
   },
   "outputs": [],
   "source": [
    "class STG():\n",
    "\n",
    "    def __init__(self, task=\"classification\", input_dim=None, output_dim=None, hidden_dims=[60,20],\n",
    "                 learning_rate=0.1, lam=0.5, sigma=0.5, **kwargs):  \n",
    "\n",
    "        self.task = task\n",
    "        self.input_dim = input_dim\n",
    "        self.output_dim = output_dim\n",
    "        self.hidden_dims = hidden_dims\n",
    "        self.learning_rate = learning_rate\n",
    "        self.lam = lam\n",
    "        self.sigma = sigma\n",
    "        self.optimizer = Adam(learning_rate=self.learning_rate, decay=1e-9)\n",
    "\n",
    "        # ---------- define feature selection models ----------\n",
    "        input_layer = Input(shape=self.input_dim, name=\"InputLayer\")    \n",
    "        \n",
    "        selection_network = FeatureSelector(input_dim=self.input_dim, lam=self.lam, sigma=self.sigma, name=\"FS\", **kwargs )  \n",
    "        hiddenModel = get_HiddenModel(input_dim=self.input_dim, output_dim=self.output_dim, hidden_dims=self.hidden_dims, task=self.task)\n",
    "\n",
    "        x = selection_network(input_layer)           \n",
    "        output_layer = hiddenModel(x)                 \n",
    "\n",
    "        self.fs_wrapper = Model(inputs=input_layer, outputs=output_layer)    \n",
    "        self.selection_net = Model(inputs=input_layer, outputs=x)           \n",
    "        self.learning_net =hiddenModel                                     \n",
    "        \n",
    "\n",
    "        if task in ['classification']:\n",
    "            loss = 'sparse_categorical_crossentropy'\n",
    "            metrics = ['accuracy']\n",
    "        elif task in ['regression', 'unsupervised']:\n",
    "            loss = 'mse'\n",
    "            metrics = None\n",
    "        else:\n",
    "            raise ValueError('Please enter valid losses and metrics...')\n",
    "\n",
    "\n",
    "        \n",
    "        \n",
    "        self.fs_wrapper.compile(optimizer=self.optimizer, loss=loss, metrics=metrics)    \n",
    "        self.selection_net.compile('sgd', 'mse', metrics)                \n",
    "        self.learning_net.compile('sgd', 'mse', metrics)        \n",
    "\n",
    "    def fit(self, x=None, y=None, **kwargs):\n",
    "        self.hist = self.fs_wrapper.fit(x=x, y=y, **kwargs)       \n",
    "        return self.hist"
   ]
  },
  {
   "cell_type": "markdown",
   "id": "ceb1b994",
   "metadata": {},
   "source": [
    "# Experiments"
   ]
  },
  {
   "cell_type": "code",
   "execution_count": 6,
   "id": "d723bb3c",
   "metadata": {},
   "outputs": [],
   "source": [
    "dataset = Dataset(name='mnist')\n",
    "data = dataset.load_data()\n",
    "model = STG(task=\"classification\", \n",
    "            input_dim=data[0].shape[1], \n",
    "            output_dim=10, \n",
    "            hidden_dims=[128,64,16],\n",
    "            learning_rate=1e-3, \n",
    "            lam=0.5, \n",
    "            sigma=0.5)"
   ]
  },
  {
   "cell_type": "code",
   "execution_count": 7,
   "id": "244e4dd7",
   "metadata": {
    "ExecuteTime": {
     "end_time": "2022-01-27T09:50:27.225960Z",
     "start_time": "2022-01-27T09:50:27.109704Z"
    },
    "scrolled": false
   },
   "outputs": [
    {
     "name": "stdout",
     "output_type": "stream",
     "text": [
      "Epoch 1/70\n",
      "118/118 [==============================] - 0s 4ms/step - loss: 1.7251 - accuracy: 0.7265\n",
      "Epoch 2/70\n",
      "118/118 [==============================] - 1s 4ms/step - loss: 1.0470 - accuracy: 0.9211\n",
      "Epoch 3/70\n",
      "118/118 [==============================] - 1s 4ms/step - loss: 0.9168 - accuracy: 0.9412\n",
      "Epoch 4/70\n",
      "118/118 [==============================] - 0s 4ms/step - loss: 0.8113 - accuracy: 0.9507\n",
      "Epoch 5/70\n",
      "118/118 [==============================] - 1s 4ms/step - loss: 0.7174 - accuracy: 0.9582\n",
      "Epoch 6/70\n",
      "118/118 [==============================] - 0s 4ms/step - loss: 0.6372 - accuracy: 0.9633\n",
      "Epoch 7/70\n",
      "118/118 [==============================] - 1s 4ms/step - loss: 0.5668 - accuracy: 0.9668\n",
      "Epoch 8/70\n",
      "118/118 [==============================] - 0s 4ms/step - loss: 0.5112 - accuracy: 0.9696\n",
      "Epoch 9/70\n",
      "118/118 [==============================] - 0s 4ms/step - loss: 0.4641 - accuracy: 0.9718\n",
      "Epoch 10/70\n",
      "118/118 [==============================] - 0s 4ms/step - loss: 0.4271 - accuracy: 0.9743\n",
      "Epoch 11/70\n",
      "118/118 [==============================] - 0s 4ms/step - loss: 0.3963 - accuracy: 0.9758\n",
      "Epoch 12/70\n",
      "118/118 [==============================] - 1s 4ms/step - loss: 0.3708 - accuracy: 0.9777\n",
      "Epoch 13/70\n",
      "118/118 [==============================] - 0s 4ms/step - loss: 0.3483 - accuracy: 0.9794\n",
      "Epoch 14/70\n",
      "118/118 [==============================] - 1s 4ms/step - loss: 0.3303 - accuracy: 0.9804\n",
      "Epoch 15/70\n",
      "118/118 [==============================] - 0s 4ms/step - loss: 0.3142 - accuracy: 0.9817\n",
      "Epoch 16/70\n",
      "118/118 [==============================] - 0s 4ms/step - loss: 0.3000 - accuracy: 0.9828\n",
      "Epoch 17/70\n",
      "118/118 [==============================] - 1s 4ms/step - loss: 0.2865 - accuracy: 0.9840\n",
      "Epoch 18/70\n",
      "118/118 [==============================] - 1s 4ms/step - loss: 0.2757 - accuracy: 0.9850\n",
      "Epoch 19/70\n",
      "118/118 [==============================] - 1s 4ms/step - loss: 0.2663 - accuracy: 0.9858\n",
      "Epoch 20/70\n",
      "118/118 [==============================] - 0s 4ms/step - loss: 0.2573 - accuracy: 0.9862\n",
      "Epoch 21/70\n",
      "118/118 [==============================] - 1s 4ms/step - loss: 0.2483 - accuracy: 0.9873\n",
      "Epoch 22/70\n",
      "118/118 [==============================] - 0s 4ms/step - loss: 0.2419 - accuracy: 0.9875\n",
      "Epoch 23/70\n",
      "118/118 [==============================] - 0s 4ms/step - loss: 0.2348 - accuracy: 0.9881\n",
      "Epoch 24/70\n",
      "118/118 [==============================] - 0s 4ms/step - loss: 0.2276 - accuracy: 0.9894\n",
      "Epoch 25/70\n",
      "118/118 [==============================] - 1s 4ms/step - loss: 0.2215 - accuracy: 0.9899\n",
      "Epoch 26/70\n",
      "118/118 [==============================] - 0s 4ms/step - loss: 0.2165 - accuracy: 0.9900\n",
      "Epoch 27/70\n",
      "118/118 [==============================] - 0s 4ms/step - loss: 0.2108 - accuracy: 0.9913\n",
      "Epoch 28/70\n",
      "118/118 [==============================] - 1s 4ms/step - loss: 0.2054 - accuracy: 0.9917\n",
      "Epoch 29/70\n",
      "118/118 [==============================] - 0s 4ms/step - loss: 0.2016 - accuracy: 0.9922\n",
      "Epoch 30/70\n",
      "118/118 [==============================] - 1s 4ms/step - loss: 0.1966 - accuracy: 0.9927\n",
      "Epoch 31/70\n",
      "118/118 [==============================] - 0s 4ms/step - loss: 0.1928 - accuracy: 0.9930\n",
      "Epoch 32/70\n",
      "118/118 [==============================] - 0s 4ms/step - loss: 0.1892 - accuracy: 0.9933\n",
      "Epoch 33/70\n",
      "118/118 [==============================] - 1s 4ms/step - loss: 0.1863 - accuracy: 0.9931\n",
      "Epoch 34/70\n",
      "118/118 [==============================] - 0s 4ms/step - loss: 0.1828 - accuracy: 0.9938\n",
      "Epoch 35/70\n",
      "118/118 [==============================] - 1s 4ms/step - loss: 0.1799 - accuracy: 0.9940\n",
      "Epoch 36/70\n",
      "118/118 [==============================] - 0s 4ms/step - loss: 0.1755 - accuracy: 0.9948\n",
      "Epoch 37/70\n",
      "118/118 [==============================] - 1s 4ms/step - loss: 0.1729 - accuracy: 0.9953\n",
      "Epoch 38/70\n",
      "118/118 [==============================] - 0s 4ms/step - loss: 0.1705 - accuracy: 0.9952\n",
      "Epoch 39/70\n",
      "118/118 [==============================] - 0s 4ms/step - loss: 0.1674 - accuracy: 0.9962\n",
      "Epoch 40/70\n",
      "118/118 [==============================] - 1s 4ms/step - loss: 0.1656 - accuracy: 0.9959\n",
      "Epoch 41/70\n",
      "118/118 [==============================] - 0s 4ms/step - loss: 0.1635 - accuracy: 0.9961\n",
      "Epoch 42/70\n",
      "118/118 [==============================] - 1s 4ms/step - loss: 0.1622 - accuracy: 0.9961\n",
      "Epoch 43/70\n",
      "118/118 [==============================] - 0s 4ms/step - loss: 0.1586 - accuracy: 0.9973\n",
      "Epoch 44/70\n",
      "118/118 [==============================] - 0s 4ms/step - loss: 0.1570 - accuracy: 0.9968\n",
      "Epoch 45/70\n",
      "118/118 [==============================] - 1s 4ms/step - loss: 0.1553 - accuracy: 0.9972\n",
      "Epoch 46/70\n",
      "118/118 [==============================] - 1s 4ms/step - loss: 0.1538 - accuracy: 0.9974\n",
      "Epoch 47/70\n",
      "118/118 [==============================] - 1s 4ms/step - loss: 0.1530 - accuracy: 0.9970\n",
      "Epoch 48/70\n",
      "118/118 [==============================] - 0s 4ms/step - loss: 0.1503 - accuracy: 0.9978\n",
      "Epoch 49/70\n",
      "118/118 [==============================] - 1s 4ms/step - loss: 0.1496 - accuracy: 0.9973\n",
      "Epoch 50/70\n",
      "118/118 [==============================] - 0s 4ms/step - loss: 0.1484 - accuracy: 0.9976\n",
      "Epoch 51/70\n",
      "118/118 [==============================] - 1s 4ms/step - loss: 0.1471 - accuracy: 0.9977\n",
      "Epoch 52/70\n",
      "118/118 [==============================] - 0s 4ms/step - loss: 0.1447 - accuracy: 0.9984\n",
      "Epoch 53/70\n",
      "118/118 [==============================] - 0s 4ms/step - loss: 0.1438 - accuracy: 0.9982\n",
      "Epoch 54/70\n",
      "118/118 [==============================] - 0s 4ms/step - loss: 0.1417 - accuracy: 0.9988\n",
      "Epoch 55/70\n",
      "118/118 [==============================] - 0s 4ms/step - loss: 0.1408 - accuracy: 0.9988\n",
      "Epoch 56/70\n",
      "118/118 [==============================] - 0s 4ms/step - loss: 0.1406 - accuracy: 0.9986\n",
      "Epoch 57/70\n",
      "118/118 [==============================] - 0s 4ms/step - loss: 0.1392 - accuracy: 0.9987\n",
      "Epoch 58/70\n",
      "118/118 [==============================] - 0s 4ms/step - loss: 0.1384 - accuracy: 0.9988\n",
      "Epoch 59/70\n",
      "118/118 [==============================] - 0s 4ms/step - loss: 0.1375 - accuracy: 0.9986\n",
      "Epoch 60/70\n",
      "118/118 [==============================] - 0s 4ms/step - loss: 0.1363 - accuracy: 0.9990\n",
      "Epoch 61/70\n",
      "118/118 [==============================] - 1s 4ms/step - loss: 0.1358 - accuracy: 0.9987\n",
      "Epoch 62/70\n",
      "118/118 [==============================] - 0s 4ms/step - loss: 0.1340 - accuracy: 0.9992\n",
      "Epoch 63/70\n",
      "118/118 [==============================] - 1s 4ms/step - loss: 0.1328 - accuracy: 0.9993\n",
      "Epoch 64/70\n",
      "118/118 [==============================] - 0s 4ms/step - loss: 0.1329 - accuracy: 0.9991\n",
      "Epoch 65/70\n",
      "118/118 [==============================] - 1s 4ms/step - loss: 0.1315 - accuracy: 0.9992\n",
      "Epoch 66/70\n",
      "118/118 [==============================] - 0s 4ms/step - loss: 0.1293 - accuracy: 0.9996\n",
      "Epoch 67/70\n",
      "118/118 [==============================] - 0s 4ms/step - loss: 0.1285 - accuracy: 0.9997\n",
      "Epoch 68/70\n",
      "118/118 [==============================] - 1s 4ms/step - loss: 0.1293 - accuracy: 0.9992\n",
      "Epoch 69/70\n",
      "118/118 [==============================] - 0s 4ms/step - loss: 0.1289 - accuracy: 0.9990\n",
      "Epoch 70/70\n",
      "118/118 [==============================] - 0s 4ms/step - loss: 0.1283 - accuracy: 0.9991\n"
     ]
    },
    {
     "data": {
      "text/plain": [
       "<tensorflow.python.keras.callbacks.History at 0x211b4a8b040>"
      ]
     },
     "execution_count": 7,
     "metadata": {},
     "output_type": "execute_result"
    }
   ],
   "source": [
    "model.fit(x=data[0],\n",
    "          y=data[1],\n",
    "          batch_size=512, \n",
    "          epochs=70,\n",
    "          verbose=1)"
   ]
  },
  {
   "cell_type": "markdown",
   "id": "d56d56e1",
   "metadata": {},
   "source": [
    "# Mask visualization"
   ]
  },
  {
   "cell_type": "code",
   "execution_count": 8,
   "id": "4d7069ef",
   "metadata": {
    "ExecuteTime": {
     "end_time": "2022-01-27T09:51:05.598790Z",
     "start_time": "2022-01-27T09:51:05.593361Z"
    }
   },
   "outputs": [],
   "source": [
    "mu = model.selection_net.layers[-1].mu.numpy()"
   ]
  },
  {
   "cell_type": "code",
   "execution_count": 9,
   "id": "99e89e92",
   "metadata": {
    "ExecuteTime": {
     "end_time": "2022-01-27T09:51:05.967165Z",
     "start_time": "2022-01-27T09:51:05.952284Z"
    }
   },
   "outputs": [],
   "source": [
    "z = mu + 0.5 * np.random.randn(784, )\n",
    "mask = tf.clip_by_value(z+0.5, 0.0, 1.0)"
   ]
  },
  {
   "cell_type": "code",
   "execution_count": 10,
   "id": "a14050fb",
   "metadata": {
    "ExecuteTime": {
     "end_time": "2022-01-27T09:51:06.564668Z",
     "start_time": "2022-01-27T09:51:06.428796Z"
    }
   },
   "outputs": [
    {
     "data": {
      "text/plain": [
       "<matplotlib.image.AxesImage at 0x211b5f3b640>"
      ]
     },
     "execution_count": 10,
     "metadata": {},
     "output_type": "execute_result"
    },
    {
     "data": {
      "image/png": "[encoded data removed]",
      "text/plain": [
       "<Figure size 432x288 with 1 Axes>"
      ]
     },
     "metadata": {
      "needs_background": "light"
     },
     "output_type": "display_data"
    }
   ],
   "source": [
    "plt.imshow(mask.numpy().reshape(28, 28))"
   ]
  },
  {
   "cell_type": "code",
   "execution_count": 11,
   "id": "3101371b",
   "metadata": {},
   "outputs": [
    {
     "data": {
      "text/plain": [
       "array([0.        , 0.        , 0.        , 0.        , 0.        ,\n",
       "       0.        , 0.        , 0.        , 0.        , 0.        ,\n",
       "       0.        , 0.        , 0.        , 0.        , 0.        ,\n",
       "       0.        , 0.        , 0.        , 0.        , 0.        ,\n",
       "       0.        , 0.        , 0.        , 0.        , 0.        ,\n",
       "       0.        , 0.        , 0.        , 0.        , 0.        ,\n",
       "       0.        , 0.        , 0.        , 0.        , 0.        ,\n",
       "       0.        , 0.        , 0.        , 0.        , 0.        ,\n",
       "       0.        , 0.        , 0.        , 0.        , 0.        ,\n",
       "       0.        , 0.        , 0.        , 0.        , 0.        ,\n",
       "       0.        , 0.        , 0.        , 0.        , 0.        ,\n",
       "       0.        , 0.        , 0.        , 0.        , 0.        ,\n",
       "       0.        , 0.        , 0.        , 0.        , 0.        ,\n",
       "       0.        , 0.        , 0.        , 0.        , 0.        ,\n",
       "       0.        , 0.        , 0.        , 0.        , 0.        ,\n",
       "       0.        , 0.        , 0.        , 0.        , 0.        ,\n",
       "       0.        , 0.        , 0.        , 0.        , 0.        ,\n",
       "       0.        , 0.        , 0.        , 0.        , 0.        ,\n",
       "       0.        , 0.        , 0.        , 0.        , 0.        ,\n",
       "       0.        , 0.        , 0.        , 0.        , 0.        ,\n",
       "       0.        , 0.        , 0.        , 0.        , 0.        ,\n",
       "       0.        , 0.        , 0.        , 0.        , 0.        ,\n",
       "       0.        , 0.        , 0.        , 0.        , 0.        ,\n",
       "       0.        , 0.        , 0.        , 0.        , 0.        ,\n",
       "       0.        , 0.        , 0.        , 0.        , 0.01137788,\n",
       "       0.        , 0.        , 0.        , 0.        , 0.        ,\n",
       "       0.        , 0.        , 0.        , 0.36455684, 0.        ,\n",
       "       0.        , 0.        , 0.        , 0.        , 0.        ,\n",
       "       0.        , 0.        , 0.        , 0.        , 0.        ,\n",
       "       0.        , 0.        , 0.        , 0.        , 0.        ,\n",
       "       0.        , 0.        , 1.        , 0.        , 0.13487679,\n",
       "       0.        , 0.        , 1.        , 0.        , 0.        ,\n",
       "       0.        , 0.        , 0.        , 0.        , 0.        ,\n",
       "       0.        , 0.        , 0.        , 0.        , 0.        ,\n",
       "       0.        , 0.        , 0.        , 0.        , 0.        ,\n",
       "       0.        , 0.04696766, 0.        , 1.        , 0.        ,\n",
       "       0.        , 0.2093983 , 0.        , 0.        , 0.37164381,\n",
       "       0.2238417 , 0.        , 0.        , 0.        , 0.        ,\n",
       "       0.        , 0.        , 0.        , 0.        , 0.        ,\n",
       "       0.        , 0.        , 0.        , 0.        , 0.        ,\n",
       "       0.        , 0.        , 0.        , 0.        , 0.        ,\n",
       "       0.23200021, 0.        , 0.67900229, 0.        , 0.        ,\n",
       "       0.34442739, 0.        , 0.        , 0.        , 0.38270182,\n",
       "       0.        , 0.        , 0.        , 0.        , 0.21735295,\n",
       "       0.        , 0.        , 0.        , 0.        , 0.        ,\n",
       "       0.        , 0.        , 0.        , 0.        , 0.08299142,\n",
       "       0.        , 0.        , 0.        , 0.        , 0.        ,\n",
       "       0.09485592, 0.        , 0.        , 0.64555511, 0.        ,\n",
       "       0.        , 0.80008092, 0.78101661, 0.        , 0.        ,\n",
       "       0.07778209, 0.        , 0.        , 0.        , 0.        ,\n",
       "       0.        , 0.        , 0.        , 0.        , 0.        ,\n",
       "       0.        , 0.        , 0.        , 0.        , 0.        ,\n",
       "       0.        , 0.        , 0.        , 0.61871655, 0.        ,\n",
       "       0.81116171, 0.89458526, 0.        , 0.        , 0.48618384,\n",
       "       0.        , 0.52175066, 0.        , 0.21780585, 0.09797769,\n",
       "       0.        , 0.        , 0.        , 0.        , 0.        ,\n",
       "       0.        , 0.        , 0.        , 0.        , 0.        ,\n",
       "       0.        , 0.        , 0.        , 0.82739086, 0.        ,\n",
       "       0.19238575, 0.67023889, 0.        , 0.65425826, 0.92147318,\n",
       "       0.        , 0.        , 0.84485985, 0.        , 0.        ,\n",
       "       0.        , 0.        , 0.        , 0.        , 0.31183733,\n",
       "       0.        , 0.        , 0.        , 0.        , 0.        ,\n",
       "       0.        , 0.        , 0.        , 0.        , 0.        ,\n",
       "       0.        , 0.14055524, 0.        , 0.        , 0.        ,\n",
       "       0.        , 0.5532271 , 0.        , 0.43267339, 0.        ,\n",
       "       1.        , 0.        , 0.        , 1.        , 0.29484259,\n",
       "       0.        , 0.        , 0.        , 0.        , 0.        ,\n",
       "       0.        , 0.        , 0.        , 0.        , 0.        ,\n",
       "       0.        , 0.        , 0.        , 0.        , 0.        ,\n",
       "       0.2033589 , 0.        , 0.        , 0.45748591, 0.        ,\n",
       "       0.24096426, 0.        , 0.0017546 , 1.        , 0.61738301,\n",
       "       0.2306824 , 0.        , 0.        , 0.        , 0.23640556,\n",
       "       0.        , 0.        , 0.        , 0.        , 0.        ,\n",
       "       0.        , 0.        , 0.        , 0.70401671, 0.        ,\n",
       "       0.        , 0.23576842, 0.        , 0.        , 0.        ,\n",
       "       0.        , 0.        , 0.        , 0.32400772, 0.17068669,\n",
       "       0.        , 0.75495853, 0.18454585, 0.        , 0.05517513,\n",
       "       0.        , 0.        , 0.22540982, 0.        , 0.        ,\n",
       "       0.        , 0.        , 0.        , 0.        , 0.        ,\n",
       "       0.        , 0.        , 0.        , 0.        , 0.        ,\n",
       "       0.        , 0.        , 0.        , 0.16893115, 0.        ,\n",
       "       0.        , 0.49916629, 0.25903154, 0.        , 0.        ,\n",
       "       0.        , 0.45968151, 0.        , 0.        , 0.        ,\n",
       "       0.        , 0.        , 0.        , 0.        , 0.        ,\n",
       "       0.        , 0.        , 0.        , 0.        , 0.        ,\n",
       "       0.        , 0.00287995, 0.50589635, 0.        , 0.        ,\n",
       "       0.22431807, 0.        , 0.        , 0.        , 0.84155914,\n",
       "       0.        , 0.23289197, 0.28048228, 0.        , 0.        ,\n",
       "       0.        , 0.        , 0.39254934, 0.        , 0.        ,\n",
       "       0.        , 0.        , 0.        , 0.        , 0.        ,\n",
       "       0.        , 0.        , 0.        , 0.        , 0.        ,\n",
       "       0.        , 0.        , 0.47891833, 0.77774651, 0.55188666,\n",
       "       0.        , 0.        , 0.        , 0.        , 0.        ,\n",
       "       0.        , 0.        , 0.        , 0.        , 0.26201184,\n",
       "       0.        , 0.        , 0.        , 0.        , 0.        ,\n",
       "       0.        , 0.        , 0.        , 0.        , 0.        ,\n",
       "       0.        , 0.        , 0.60565185, 0.        , 0.        ,\n",
       "       0.        , 0.07373808, 0.75943461, 0.07547741, 0.53984052,\n",
       "       0.95530788, 0.45067969, 0.        , 0.        , 0.        ,\n",
       "       0.        , 0.        , 0.        , 0.        , 0.        ,\n",
       "       0.        , 0.        , 0.        , 0.        , 0.        ,\n",
       "       0.        , 0.        , 0.        , 0.        , 0.        ,\n",
       "       0.        , 0.        , 0.        , 1.        , 0.        ,\n",
       "       0.68777936, 0.90126656, 0.56569763, 0.        , 0.        ,\n",
       "       0.1009124 , 0.        , 0.        , 0.        , 0.        ,\n",
       "       0.03029398, 0.        , 0.        , 0.        , 0.        ,\n",
       "       0.        , 0.        , 0.        , 0.        , 0.        ,\n",
       "       0.        , 0.        , 0.        , 0.        , 0.        ,\n",
       "       0.81713832, 0.        , 0.14242955, 0.        , 0.        ,\n",
       "       0.        , 0.        , 0.18518295, 0.        , 0.        ,\n",
       "       0.        , 0.        , 0.        , 0.        , 0.        ,\n",
       "       0.        , 0.        , 0.        , 0.        , 0.        ,\n",
       "       0.        , 0.        , 0.        , 0.        , 0.        ,\n",
       "       0.        , 0.        , 0.        , 0.        , 0.82904338,\n",
       "       0.79672413, 0.6653573 , 0.        , 0.07551345, 0.22212474,\n",
       "       0.94585911, 0.0792419 , 0.        , 0.11840095, 0.25510454,\n",
       "       0.        , 0.        , 0.        , 0.        , 0.        ,\n",
       "       0.        , 0.        , 0.        , 0.        , 0.        ,\n",
       "       0.        , 0.        , 0.        , 0.        , 0.        ,\n",
       "       0.        , 0.        , 0.26208179, 0.        , 0.        ,\n",
       "       0.9812274 , 0.        , 0.        , 0.        , 0.        ,\n",
       "       0.        , 0.0137219 , 0.        , 0.        , 0.        ,\n",
       "       0.        , 0.        , 0.        , 0.        , 0.        ,\n",
       "       0.        , 0.        , 0.        , 0.        , 0.        ,\n",
       "       0.        , 0.        , 0.        , 0.        , 0.        ,\n",
       "       0.        , 0.        , 0.        , 0.        , 0.33661569,\n",
       "       0.        , 0.        , 0.        , 0.        , 0.        ,\n",
       "       0.        , 0.        , 0.        , 0.        , 0.        ,\n",
       "       0.        , 0.        , 0.        , 0.        , 0.        ,\n",
       "       0.        , 0.        , 0.        , 0.        , 0.        ,\n",
       "       0.        , 0.        , 0.        , 0.        , 0.        ,\n",
       "       0.34625992, 0.49874479, 0.        , 0.13442383, 0.        ,\n",
       "       0.        , 0.        , 0.41394495, 0.60494678, 0.        ,\n",
       "       0.13632077, 0.        , 0.        , 0.        , 0.        ,\n",
       "       0.        , 0.        , 0.        , 0.        , 0.        ,\n",
       "       0.        , 0.        , 0.        , 0.        , 0.        ,\n",
       "       0.        , 0.        , 0.        , 0.        , 0.33643224,\n",
       "       0.79984936, 0.30674982, 0.        , 0.        , 0.        ,\n",
       "       0.        , 0.        , 0.        , 0.        , 0.        ,\n",
       "       0.        , 0.        , 0.        , 0.        , 0.        ,\n",
       "       0.        , 0.        , 0.        , 0.        , 0.        ,\n",
       "       0.        , 0.        , 0.        , 0.        , 0.        ,\n",
       "       0.        , 0.        , 0.        , 0.        , 0.        ,\n",
       "       0.        , 0.        , 0.        , 0.        , 0.        ,\n",
       "       0.        , 0.        , 0.        , 0.        , 0.        ,\n",
       "       0.        , 0.        , 0.        , 0.        , 0.        ,\n",
       "       0.        , 0.        , 0.        , 0.        , 0.        ,\n",
       "       0.        , 0.        , 0.        , 0.        , 0.        ,\n",
       "       0.        , 0.        , 0.39480539, 0.        , 0.        ,\n",
       "       0.        , 0.        , 0.        , 0.        , 0.        ,\n",
       "       0.        , 0.        , 0.        , 0.        , 0.        ,\n",
       "       0.        , 0.        , 0.        , 0.        , 0.        ,\n",
       "       0.        , 0.        , 0.        , 0.        , 0.        ,\n",
       "       0.        , 0.        , 0.        , 0.        , 0.        ,\n",
       "       0.        , 0.        , 0.        , 0.        , 0.        ,\n",
       "       0.        , 0.        , 0.        , 0.        , 0.        ,\n",
       "       0.        , 0.        , 0.        , 0.        ])"
      ]
     },
     "execution_count": 11,
     "metadata": {},
     "output_type": "execute_result"
    }
   ],
   "source": [
    "mask.numpy()"
   ]
  },
  {
   "cell_type": "code",
   "execution_count": null,
   "id": "b4808190",
   "metadata": {},
   "outputs": [],
   "source": []
  }
 ],
 "metadata": {
  "kernelspec": {
   "display_name": "Python 3",
   "language": "python",
   "name": "python3"
  },
  "language_info": {
   "codemirror_mode": {
    "name": "ipython",
    "version": 3
   },
   "file_extension": ".py",
   "mimetype": "text/x-python",
   "name": "python",
   "nbconvert_exporter": "python",
   "pygments_lexer": "ipython3",
   "version": "3.8.8"
  },
  "toc": {
   "base_numbering": 1,
   "nav_menu": {},
   "number_sections": true,
   "sideBar": true,
   "skip_h1_title": false,
   "title_cell": "Table of Contents",
   "title_sidebar": "Contents",
   "toc_cell": false,
   "toc_position": {},
   "toc_section_display": true,
   "toc_window_display": false
  }
 },
 "nbformat": 4,
 "nbformat_minor": 5
}
